{
 "cells": [
  {
   "cell_type": "code",
   "execution_count": 17,
   "metadata": {},
   "outputs": [],
   "source": [
    "import re\n",
    "\n",
    "def cleandata():\n",
    "    fp1=open(\"cleanData.csv\",'w')\n",
    "    fp1.write(\"SN,IEC,Party Name,Address,IEC Allotment Date,Phone No,\\\n",
    "    e_mail,Exporter Type,BIN,Nature Of Concern,Directors,\\n\")\n",
    "\n",
    "    clean_data=[]\n",
    "\n",
    "    fp=open('data.csv',encoding=\"utf8\", errors='ignore')\n",
    "    sn=1\n",
    "    i=0\n",
    "    f1=\"\"\n",
    "    f2=\"\"\n",
    "    f3=\"\"\n",
    "    f4=\"\"\n",
    "    f5=\"\"\n",
    "    f6=\"\"\n",
    "    f7=\"\"\n",
    "    f8=\"\"\n",
    "    f9=\"\"\n",
    "    f10=\"\"\n",
    "    f11=\"\"\n",
    "\n",
    "    for line in fp:\n",
    "\n",
    "        #line = fp.readline().strip()\n",
    "\n",
    "\n",
    "\n",
    "        #print(line)\n",
    "\n",
    "        if re.search(\"IEC,:,\",line)!=None:\n",
    "            f1=line.split(',')[2]\n",
    "            i=i+1\n",
    "            continue\n",
    "\n",
    "        elif re.search(\"IEC Allotment Date,:,\",line) != None:\n",
    "            f2=line.split(',')[2]\n",
    "            i=i+1\n",
    "            continue\n",
    "\n",
    "        elif re.search(\"Party Name and Address,:,\",line) != None:\n",
    "            f3=line.split(',')[2].replace('ÿ','')\n",
    "            i=i+1\n",
    "            #f4=fp.readline().strip() + \",\"\n",
    "            #f4=f4 + fp.readline().strip()+ \",\"\n",
    "            #f4=f4 + fp.readline().strip()+ \",\"\n",
    "           # f4=f4 + fp.readline().strip()\n",
    "           # f4=f4.replace(\",,\",\",\")\n",
    "           # f4=f4.replace(\",,\",\",\")\n",
    "           # f4=f4.replace(\",,\",\",\")\n",
    "           # f4=f4.replace('\"','')[:-1]\n",
    "           # f4=f4.replace('Ã¿','')[1:]\n",
    "            continue\n",
    "\n",
    "        elif re.search(\"Phone No,:,\",line) != None:\n",
    "            f5=line.split(',')[2]\n",
    "            i=i+1\n",
    "            continue\n",
    "\n",
    "        elif re.search(\"e_mail,:,\",line) != None:\n",
    "            f6=line.split(',')[2]\n",
    "            i=i+1\n",
    "            continue\n",
    "\n",
    "        elif re.search(\"Exporter Type,:,\",line) != None:\n",
    "            f7=line.split(',')[2]\n",
    "            i=i+1\n",
    "            continue\n",
    "\n",
    "        elif re.search(\"BIN\",line) != None:\n",
    "            f8=line.split(',')[2]\n",
    "            i=i+1\n",
    "            continue\n",
    "\n",
    "        elif re.search(\"Nature Of Concern,\",line) != None:\n",
    "            f9=line.split(',')[2]\n",
    "            i=i+1\n",
    "            continue\n",
    "\n",
    "        elif re.search(\"Directors:\",line) != None:\n",
    "            #f10=fp.readline().strip().split(',')[1].replace('Ã¿','')\n",
    "            i=i+1\n",
    "            continue\n",
    "\n",
    "\n",
    "        if i==9:\n",
    "            temp=[f1,f2,f3,f4,f5,f6,f7,f8,f9,f10]\n",
    "            clean_data.append(temp)\n",
    "\n",
    "            fp1.write(str(sn)+\"\\t\"+f1+\"\\t\"+f2+\"\\t\"+f3+\"\\t\"+f4+\"\\t\"+f5+\"\\t\"+f6+\"\\t\"+f7\\\n",
    "                      +\"\\t\"+f8+\"\\t\"+f9+\"\\t\"+f10+\"\\n\")\n",
    "            sn=sn+1\n",
    "            i=0\n",
    "\n",
    "    fp.close()\n",
    "    fp1.close()\n",
    "    return clean_data"
   ]
  },
  {
   "cell_type": "code",
   "execution_count": 19,
   "metadata": {},
   "outputs": [
    {
     "data": {
      "text/plain": [
       "[['808008617',\n",
       "  '28.07.2008',\n",
       "  'AEGIS LIFESCIENCES',\n",
       "  '',\n",
       "  '9825693131',\n",
       "  'aegis.lifesciences@gmail.com',\n",
       "  '5 Merchant/Manufacturer',\n",
       "  'AAOFA0927G FT001',\n",
       "  '5 Partnership',\n",
       "  ''],\n",
       " ['808008617',\n",
       "  '28.07.2008',\n",
       "  'AEGIS LIFESCIENCES',\n",
       "  '',\n",
       "  '9825693131',\n",
       "  'aegis.lifesciences@gmail.com',\n",
       "  '5 Merchant/Manufacturer',\n",
       "  'AAOFA0927G FT001',\n",
       "  '5 Partnership',\n",
       "  ''],\n",
       " ['815901453',\n",
       "  '06.07.2015',\n",
       "  'AELICURE PHARMA',\n",
       "  '',\n",
       "  '9.19427E+11',\n",
       "  'aelicurepharma@gmail.com',\n",
       "  '5 Merchant/Manufacturer',\n",
       "  'AAWFA7969E FT001',\n",
       "  '5 Partnership',\n",
       "  ''],\n",
       " ['2415002224',\n",
       "  '09.07.2015',\n",
       "  'AELIYA MARINE TECH PRIVATE LIMITED',\n",
       "  '',\n",
       "  '2782569786',\n",
       "  'sales@aeliyamarine.com',\n",
       "  '1 Merchant Exporter',\n",
       "  'AANCA4097K FT001',\n",
       "  '3 Private Limited',\n",
       "  ''],\n",
       " ['AAOCA6410F',\n",
       "  '12.04.2018',\n",
       "  'AEON PROCARE PRIVATE LIMITED',\n",
       "  '',\n",
       "  '9.19167E+11',\n",
       "  'santoshp@ashapura.com',\n",
       "  '5 Merchant/Manufacturer',\n",
       "  'AAOCA6410F FT001',\n",
       "  '3 Private Limited',\n",
       "  '']]"
      ]
     },
     "execution_count": 19,
     "metadata": {},
     "output_type": "execute_result"
    }
   ],
   "source": []
  },
  {
   "cell_type": "code",
   "execution_count": 49,
   "metadata": {},
   "outputs": [
    {
     "name": "stdout",
     "output_type": "stream",
     "text": [
      "5\n",
      "-7 -7 -7 -7 -6\n",
      "-6\n"
     ]
    }
   ],
   "source": [
    "if __name__ == '__main__':\n",
    "    n = int(input())\n",
    "    arr = (input().split())\n",
    "    for i in range(n):\n",
    "        for j in range(0, n-i-1):\n",
    "            if arr[j] >= arr[j+1] :\n",
    "                arr[j], arr[j+1] = arr[j+1], arr[j]\n",
    "                \n",
    "    for i in range(len(arr)-1,0,-1):        \n",
    "        if arr[i]==arr[i-1]:\n",
    "            pass\n",
    "        else:\n",
    "            print( arr[i-1])\n",
    "            break\n"
   ]
  },
  {
   "cell_type": "code",
   "execution_count": 57,
   "metadata": {},
   "outputs": [
    {
     "name": "stdout",
     "output_type": "stream",
     "text": [
      "5\n",
      "2 3 5 -6 -3\n",
      "3\n"
     ]
    }
   ],
   "source": [
    "if __name__ == '__main__':\n",
    "    n = int(input())\n",
    "    arr = (input().split())\n",
    "    for i in range(n):\n",
    "        for j in range(0, n-i-1):\n",
    "            if arr[j] >= arr[j+1] :\n",
    "                arr[j], arr[j+1] = arr[j+1], arr[j]\n",
    "                \n",
    "    for i in range(len(arr)-1,0,-1):        \n",
    "        if arr[i]==arr[i-1]:\n",
    "            pass\n",
    "        else:\n",
    "            print( arr[i-1])\n",
    "            break\n"
   ]
  },
  {
   "cell_type": "code",
   "execution_count": 58,
   "metadata": {},
   "outputs": [
    {
     "data": {
      "text/plain": [
       "['-3', '-6', '2', '3', '5']"
      ]
     },
     "execution_count": 58,
     "metadata": {},
     "output_type": "execute_result"
    }
   ],
   "source": [
    "arr"
   ]
  },
  {
   "cell_type": "code",
   "execution_count": null,
   "metadata": {},
   "outputs": [],
   "source": []
  }
 ],
 "metadata": {
  "kernelspec": {
   "display_name": "Python 3",
   "language": "python",
   "name": "python3"
  },
  "language_info": {
   "codemirror_mode": {
    "name": "ipython",
    "version": 3
   },
   "file_extension": ".py",
   "mimetype": "text/x-python",
   "name": "python",
   "nbconvert_exporter": "python",
   "pygments_lexer": "ipython3",
   "version": "3.6.5"
  }
 },
 "nbformat": 4,
 "nbformat_minor": 2
}
